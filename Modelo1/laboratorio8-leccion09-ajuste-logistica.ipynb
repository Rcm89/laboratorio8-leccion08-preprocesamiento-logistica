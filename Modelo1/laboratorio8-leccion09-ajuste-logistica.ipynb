{
 "cells": [
  {
   "cell_type": "markdown",
   "metadata": {},
   "source": [
    "<div style=\"text-align: center;\">\n",
    "  <img src=\"https://github.com/Hack-io-Data/Imagenes/blob/main/01-LogosHackio/logo_naranja@4x.png?raw=true\" alt=\"esquema\" />\n",
    "</div>\n",
    "\n",
    "# Laboratorio: Construcción Modelo de Clasificación y Evaluación de Métricas\n",
    "\n",
    "Tras realizar el preprocesamiento de los datos y dejarlos listos para construir modelos, ha llegado el momento de dar el siguiente paso: desarrollar tu **primer modelo de clasificación**.\n",
    "\n",
    "El objetivo de este laboratorio es implementar un modelo de clasificación inicial utilizando **Regresión Logística (Logistic Regression)**. Este modelo te permitirá obtener las primeras predicciones para identificar transacciones normales y anómalas, así como evaluar su desempeño utilizando métricas estándar.\n",
    "\n",
    "Además, deberás evaluar si el modelo está en riesgo de **overfitting**, asegurando que nuestras predicciones sean consistentes tanto en los datos de entrenamiento como en los de prueba.\n",
    "\n",
    "\n",
    "## Objetivo del Laboratorio\n",
    "\n",
    "1. Entrenar un modelo de **Regresión Logística** para predecir si una transacción es \"Normal\" o \"Anómala\".\n",
    "\n",
    "2. Evaluar el desempeño del modelo utilizando métricas como:\n",
    "\n",
    "   - Precisión (Accuracy).\n",
    "\n",
    "   - Matriz de confusión.\n",
    "\n",
    "   - Precisión (Precision), exhaustividad (Recall) y F1-Score.\n",
    "\n",
    "   - Área bajo la curva ROC (AUC-ROC).\n",
    "\n",
    "3. Determinar si el modelo presenta **overfitting** o **underfitting**, analizando el rendimiento en los datos de entrenamiento y prueba.\n"
   ]
  },
  {
   "cell_type": "code",
   "execution_count": 41,
   "metadata": {},
   "outputs": [],
   "source": [
    "# Tratamiento de datos\n",
    "# -----------------------------------------------------------------------\n",
    "import pandas as pd\n",
    "import numpy as np\n",
    "import pickle\n",
    "\n",
    "# Visualizaciones\n",
    "# -----------------------------------------------------------------------\n",
    "import seaborn as sns\n",
    "import matplotlib.pyplot as plt\n",
    "\n",
    "# Para realizar la clasificación y la evaluación del modelo\n",
    "# -----------------------------------------------------------------------\n",
    "from sklearn.linear_model import LogisticRegression\n",
    "from sklearn.model_selection import train_test_split\n",
    "from sklearn.metrics import accuracy_score, precision_score, recall_score, f1_score, confusion_matrix\n",
    "from sklearn.metrics import roc_curve, roc_auc_score\n"
   ]
  },
  {
   "cell_type": "code",
   "execution_count": 42,
   "metadata": {},
   "outputs": [],
   "source": [
    "import sys\n",
    "import os\n",
    "sys.path.append(os.path.abspath('../'))"
   ]
  },
  {
   "cell_type": "code",
   "execution_count": 43,
   "metadata": {},
   "outputs": [],
   "source": [
    "# Librería para el acceso a variables y funciones\n",
    "# -----------------------------------------------------------------------\n",
    "\n",
    "from src import soporte_ajuste_logistica as sal\n"
   ]
  },
  {
   "cell_type": "code",
   "execution_count": 44,
   "metadata": {},
   "outputs": [],
   "source": [
    "import warnings\n",
    "warnings.filterwarnings(\"ignore\")"
   ]
  },
  {
   "cell_type": "code",
   "execution_count": 45,
   "metadata": {},
   "outputs": [],
   "source": [
    "df = pd.read_pickle('datos/datos_preprocesados.pkl')"
   ]
  },
  {
   "cell_type": "code",
   "execution_count": 46,
   "metadata": {},
   "outputs": [
    {
     "data": {
      "text/html": [
       "<div>\n",
       "<style scoped>\n",
       "    .dataframe tbody tr th:only-of-type {\n",
       "        vertical-align: middle;\n",
       "    }\n",
       "\n",
       "    .dataframe tbody tr th {\n",
       "        vertical-align: top;\n",
       "    }\n",
       "\n",
       "    .dataframe thead th {\n",
       "        text-align: right;\n",
       "    }\n",
       "</style>\n",
       "<table border=\"1\" class=\"dataframe\">\n",
       "  <thead>\n",
       "    <tr style=\"text-align: right;\">\n",
       "      <th></th>\n",
       "      <th>is_fraudulent</th>\n",
       "      <th>customer_id</th>\n",
       "      <th>merchant_id</th>\n",
       "      <th>amount</th>\n",
       "      <th>purchase_category</th>\n",
       "      <th>customer_age</th>\n",
       "      <th>card_type_American Express</th>\n",
       "      <th>card_type_Discover</th>\n",
       "      <th>card_type_MasterCard</th>\n",
       "      <th>card_type_Visa</th>\n",
       "      <th>...</th>\n",
       "      <th>location_City-9</th>\n",
       "      <th>outliers_ifo_0.01_25</th>\n",
       "      <th>outliers_ifo_0.01_50</th>\n",
       "      <th>outliers_ifo_0.01_75</th>\n",
       "      <th>outliers_ifo_0.05_25</th>\n",
       "      <th>outliers_ifo_0.05_50</th>\n",
       "      <th>outliers_ifo_0.05_75</th>\n",
       "      <th>outliers_ifo_0.1_25</th>\n",
       "      <th>outliers_ifo_0.1_50</th>\n",
       "      <th>outliers_ifo_0.1_75</th>\n",
       "    </tr>\n",
       "  </thead>\n",
       "  <tbody>\n",
       "    <tr>\n",
       "      <th>0</th>\n",
       "      <td>0</td>\n",
       "      <td>0.779808</td>\n",
       "      <td>0.510079</td>\n",
       "      <td>0.575423</td>\n",
       "      <td>0.900628</td>\n",
       "      <td>0.480769</td>\n",
       "      <td>0.0</td>\n",
       "      <td>0.0</td>\n",
       "      <td>1.0</td>\n",
       "      <td>0.0</td>\n",
       "      <td>...</td>\n",
       "      <td>0.0</td>\n",
       "      <td>1</td>\n",
       "      <td>1</td>\n",
       "      <td>1</td>\n",
       "      <td>1</td>\n",
       "      <td>1</td>\n",
       "      <td>1</td>\n",
       "      <td>1</td>\n",
       "      <td>1</td>\n",
       "      <td>1</td>\n",
       "    </tr>\n",
       "    <tr>\n",
       "      <th>1</th>\n",
       "      <td>1</td>\n",
       "      <td>0.791454</td>\n",
       "      <td>0.584829</td>\n",
       "      <td>0.189301</td>\n",
       "      <td>0.143774</td>\n",
       "      <td>0.826923</td>\n",
       "      <td>0.0</td>\n",
       "      <td>0.0</td>\n",
       "      <td>0.0</td>\n",
       "      <td>1.0</td>\n",
       "      <td>...</td>\n",
       "      <td>0.0</td>\n",
       "      <td>1</td>\n",
       "      <td>1</td>\n",
       "      <td>1</td>\n",
       "      <td>1</td>\n",
       "      <td>1</td>\n",
       "      <td>1</td>\n",
       "      <td>1</td>\n",
       "      <td>1</td>\n",
       "      <td>1</td>\n",
       "    </tr>\n",
       "    <tr>\n",
       "      <th>2</th>\n",
       "      <td>1</td>\n",
       "      <td>0.948651</td>\n",
       "      <td>0.463460</td>\n",
       "      <td>0.123960</td>\n",
       "      <td>0.900628</td>\n",
       "      <td>0.750000</td>\n",
       "      <td>0.0</td>\n",
       "      <td>0.0</td>\n",
       "      <td>1.0</td>\n",
       "      <td>0.0</td>\n",
       "      <td>...</td>\n",
       "      <td>0.0</td>\n",
       "      <td>1</td>\n",
       "      <td>1</td>\n",
       "      <td>1</td>\n",
       "      <td>1</td>\n",
       "      <td>1</td>\n",
       "      <td>1</td>\n",
       "      <td>1</td>\n",
       "      <td>1</td>\n",
       "      <td>1</td>\n",
       "    </tr>\n",
       "    <tr>\n",
       "      <th>3</th>\n",
       "      <td>1</td>\n",
       "      <td>0.791454</td>\n",
       "      <td>0.541243</td>\n",
       "      <td>0.761671</td>\n",
       "      <td>0.512530</td>\n",
       "      <td>0.788462</td>\n",
       "      <td>0.0</td>\n",
       "      <td>1.0</td>\n",
       "      <td>0.0</td>\n",
       "      <td>0.0</td>\n",
       "      <td>...</td>\n",
       "      <td>0.0</td>\n",
       "      <td>1</td>\n",
       "      <td>1</td>\n",
       "      <td>1</td>\n",
       "      <td>1</td>\n",
       "      <td>1</td>\n",
       "      <td>1</td>\n",
       "      <td>1</td>\n",
       "      <td>1</td>\n",
       "      <td>1</td>\n",
       "    </tr>\n",
       "    <tr>\n",
       "      <th>4</th>\n",
       "      <td>1</td>\n",
       "      <td>0.518519</td>\n",
       "      <td>0.533525</td>\n",
       "      <td>0.188153</td>\n",
       "      <td>0.678115</td>\n",
       "      <td>0.346154</td>\n",
       "      <td>0.0</td>\n",
       "      <td>0.0</td>\n",
       "      <td>1.0</td>\n",
       "      <td>0.0</td>\n",
       "      <td>...</td>\n",
       "      <td>0.0</td>\n",
       "      <td>1</td>\n",
       "      <td>1</td>\n",
       "      <td>1</td>\n",
       "      <td>1</td>\n",
       "      <td>1</td>\n",
       "      <td>1</td>\n",
       "      <td>1</td>\n",
       "      <td>1</td>\n",
       "      <td>1</td>\n",
       "    </tr>\n",
       "  </tbody>\n",
       "</table>\n",
       "<p>5 rows × 69 columns</p>\n",
       "</div>"
      ],
      "text/plain": [
       "   is_fraudulent  customer_id  merchant_id    amount  purchase_category  \\\n",
       "0              0     0.779808     0.510079  0.575423           0.900628   \n",
       "1              1     0.791454     0.584829  0.189301           0.143774   \n",
       "2              1     0.948651     0.463460  0.123960           0.900628   \n",
       "3              1     0.791454     0.541243  0.761671           0.512530   \n",
       "4              1     0.518519     0.533525  0.188153           0.678115   \n",
       "\n",
       "   customer_age  card_type_American Express  card_type_Discover  \\\n",
       "0      0.480769                         0.0                 0.0   \n",
       "1      0.826923                         0.0                 0.0   \n",
       "2      0.750000                         0.0                 0.0   \n",
       "3      0.788462                         0.0                 1.0   \n",
       "4      0.346154                         0.0                 0.0   \n",
       "\n",
       "   card_type_MasterCard  card_type_Visa  ...  location_City-9  \\\n",
       "0                   1.0             0.0  ...              0.0   \n",
       "1                   0.0             1.0  ...              0.0   \n",
       "2                   1.0             0.0  ...              0.0   \n",
       "3                   0.0             0.0  ...              0.0   \n",
       "4                   1.0             0.0  ...              0.0   \n",
       "\n",
       "   outliers_ifo_0.01_25  outliers_ifo_0.01_50  outliers_ifo_0.01_75  \\\n",
       "0                     1                     1                     1   \n",
       "1                     1                     1                     1   \n",
       "2                     1                     1                     1   \n",
       "3                     1                     1                     1   \n",
       "4                     1                     1                     1   \n",
       "\n",
       "   outliers_ifo_0.05_25  outliers_ifo_0.05_50  outliers_ifo_0.05_75  \\\n",
       "0                     1                     1                     1   \n",
       "1                     1                     1                     1   \n",
       "2                     1                     1                     1   \n",
       "3                     1                     1                     1   \n",
       "4                     1                     1                     1   \n",
       "\n",
       "   outliers_ifo_0.1_25  outliers_ifo_0.1_50  outliers_ifo_0.1_75  \n",
       "0                    1                    1                    1  \n",
       "1                    1                    1                    1  \n",
       "2                    1                    1                    1  \n",
       "3                    1                    1                    1  \n",
       "4                    1                    1                    1  \n",
       "\n",
       "[5 rows x 69 columns]"
      ]
     },
     "execution_count": 46,
     "metadata": {},
     "output_type": "execute_result"
    }
   ],
   "source": [
    "df.head()"
   ]
  },
  {
   "cell_type": "code",
   "execution_count": 47,
   "metadata": {},
   "outputs": [],
   "source": [
    "df = df.astype(float)"
   ]
  },
  {
   "cell_type": "code",
   "execution_count": 48,
   "metadata": {},
   "outputs": [
    {
     "data": {
      "text/html": [
       "<div>\n",
       "<style scoped>\n",
       "    .dataframe tbody tr th:only-of-type {\n",
       "        vertical-align: middle;\n",
       "    }\n",
       "\n",
       "    .dataframe tbody tr th {\n",
       "        vertical-align: top;\n",
       "    }\n",
       "\n",
       "    .dataframe thead th {\n",
       "        text-align: right;\n",
       "    }\n",
       "</style>\n",
       "<table border=\"1\" class=\"dataframe\">\n",
       "  <thead>\n",
       "    <tr style=\"text-align: right;\">\n",
       "      <th></th>\n",
       "      <th>train</th>\n",
       "      <th>test</th>\n",
       "    </tr>\n",
       "  </thead>\n",
       "  <tbody>\n",
       "    <tr>\n",
       "      <th>accuracy</th>\n",
       "      <td>0.557663</td>\n",
       "      <td>0.574317</td>\n",
       "    </tr>\n",
       "    <tr>\n",
       "      <th>precision</th>\n",
       "      <td>0.557447</td>\n",
       "      <td>0.575645</td>\n",
       "    </tr>\n",
       "    <tr>\n",
       "      <th>recall</th>\n",
       "      <td>0.557663</td>\n",
       "      <td>0.574317</td>\n",
       "    </tr>\n",
       "    <tr>\n",
       "      <th>f1</th>\n",
       "      <td>0.556961</td>\n",
       "      <td>0.573324</td>\n",
       "    </tr>\n",
       "    <tr>\n",
       "      <th>kappa</th>\n",
       "      <td>0.114180</td>\n",
       "      <td>0.149470</td>\n",
       "    </tr>\n",
       "    <tr>\n",
       "      <th>auc</th>\n",
       "      <td>0.584145</td>\n",
       "      <td>0.605811</td>\n",
       "    </tr>\n",
       "  </tbody>\n",
       "</table>\n",
       "</div>"
      ],
      "text/plain": [
       "              train      test\n",
       "accuracy   0.557663  0.574317\n",
       "precision  0.557447  0.575645\n",
       "recall     0.557663  0.574317\n",
       "f1         0.556961  0.573324\n",
       "kappa      0.114180  0.149470\n",
       "auc        0.584145  0.605811"
      ]
     },
     "execution_count": 48,
     "metadata": {},
     "output_type": "execute_result"
    }
   ],
   "source": [
    "# instanciamos la clase de regresión logistica\n",
    "logistica = sal.AnalisisModelosClasificacion(dataframe = df, variable_dependiente = \"is_fraudulent\")\n",
    "\n",
    "# llamamos a la función para ajustar el modelo\n",
    "logistica.ajustar_modelo(\"logistic_regression\")\n",
    "\n",
    "# llamamos al metodo para obtener los resultaods de las predicciones\n",
    "df_resultados = logistica.calcular_metricas(modelo_nombre =  \"logistic_regression\" )\n",
    "df_resultados"
   ]
  },
  {
   "cell_type": "markdown",
   "metadata": {},
   "source": [
    "Un accuracy del 57 % en el test quiere decir que el modelo apenas predice algo mejor que la aleatoridad o azar (que sería el 50%).\n",
    "\n",
    "La precision es del 57  % y dado que en el EDA no apreciamos desbalanceo, podemos concluir que predice igual de bien (o de mal) los positivos que los negativos.\n",
    "\n",
    "El recall indica que un 57% de los positivos fueron correctamente identificados por el modelo.\n",
    "\n",
    "El f1 también se mueve en torno al 57% cosa, totalmente lógica dado que esta métrica es la media armónica de accuracy y precision.\n",
    "\n",
    "La kappa de menos de 0.15 en el test indica que tenemos una concordancia muy leve teniendo en cuenta que el 0 es el azar y el 1 indica concordancia perfecta entre las predicciones y el valor verdadedo, pues la conclusión es que apenas mejoramos el modelo aleatorio\n",
    "\n",
    "\n"
   ]
  },
  {
   "cell_type": "markdown",
   "metadata": {},
   "source": [
    "El AUC, area bajo la curva ROC, de 0.6 nos habla de un modelo que mejora en poco al azar (0,5) en su capacidad para clasificar. El AUC repr"
   ]
  },
  {
   "cell_type": "markdown",
   "metadata": {},
   "source": [
    "Como tónica general se observa que en el test obtenemos datos ligeramente mejores que en el train y que los indicadores de las metricas son bajos, pues mejoramos en poco al azar. Por tanto, este modelo predictivo presenta underfittin"
   ]
  },
  {
   "cell_type": "code",
   "execution_count": 49,
   "metadata": {},
   "outputs": [
    {
     "data": {
      "image/png": "[encoded data removed]",
      "text/plain": [
       "<Figure size 800x600 with 2 Axes>"
      ]
     },
     "metadata": {},
     "output_type": "display_data"
    }
   ],
   "source": [
    "logistica.plot_matriz_confusion(\"logistic_regression\")\n"
   ]
  },
  {
   "cell_type": "markdown",
   "metadata": {},
   "source": [
    "Tenemos 525 verdaderos negativos, 474 falsos positivos, 368 falsos negativos y 611 veradedos positivos. El modelo es mejorable, pero podemos felicitarnos de que la mayoría de predicciones caen en la categoría de verdaderos positivos y veraderos negativos. Así que el modelo predice correctamente más veces de las que se equivoca. Si no fuese así habríamos perdido el tiempo pues habría sido mejor clasificar en base a lanzamientos de una moneda por ejemplo."
   ]
  },
  {
   "cell_type": "markdown",
   "metadata": {},
   "source": [
    "A continuación sacamos la curva ROC"
   ]
  },
  {
   "cell_type": "code",
   "execution_count": 50,
   "metadata": {},
   "outputs": [
    {
     "data": {
      "image/png": "[encoded data removed]",
      "text/plain": [
       "<Figure size 800x600 with 1 Axes>"
      ]
     },
     "metadata": {},
     "output_type": "display_data"
    }
   ],
   "source": [
    "logistica.plot_curva_roc(\"logistic_regression\")"
   ]
  }
 ],
 "metadata": {
  "kernelspec": {
   "display_name": "Python 3",
   "language": "python",
   "name": "python3"
  },
  "language_info": {
   "codemirror_mode": {
    "name": "ipython",
    "version": 3
   },
   "file_extension": ".py",
   "mimetype": "text/x-python",
   "name": "python",
   "nbconvert_exporter": "python",
   "pygments_lexer": "ipython3",
   "version": "3.12.6"
  }
 },
 "nbformat": 4,
 "nbformat_minor": 2
}
